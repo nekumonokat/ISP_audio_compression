{
 "cells": [
  {
   "cell_type": "markdown",
   "id": "660841fd",
   "metadata": {},
   "source": [
    "# Ex 2 Audio Compression\n",
    "This task focuses on encoding and decoding a series of uncompressed audio files, based on the lossless data compression method \"Rice Coding\"."
   ]
  },
  {
   "cell_type": "code",
   "execution_count": 1,
   "id": "42e62bb4",
   "metadata": {},
   "outputs": [],
   "source": [
    "import math"
   ]
  },
  {
   "cell_type": "markdown",
   "id": "f90ce9b9",
   "metadata": {},
   "source": [
    "The Rice Encoding takes in the input sample (```value```) and the number of bits (```k```).\n",
    "\n",
    "- The modulus (```m```) is calculated where $m = {2^k}$\n",
    "- The sample (```S```) is then encoded by finding:\n",
    "    1. The quotient where $quotient = int(S / m)$\n",
    "    2. The remainder where $remainder =  SmoduloM $\n",
    "- The Codeword is then generated where:\n",
    "    1. The quotientCode is the quotient in unary form\n",
    "    2. The remainderCode is the remainder in binary using ```k``` bits\n",
    "    3. The codeword will have the format < quotientCode >< remainderCode >"
   ]
  },
  {
   "cell_type": "code",
   "execution_count": 2,
   "id": "e816c5ed",
   "metadata": {},
   "outputs": [
    {
     "data": {
      "text/plain": [
       "'1101000'"
      ]
     },
     "execution_count": 2,
     "metadata": {},
     "output_type": "execute_result"
    }
   ],
   "source": [
    "def RiceEncoder(value, k):\n",
    "    m = 2**k\n",
    "    quotient = int(math.floor(value / m))\n",
    "    remainder = int(value % m)\n",
    "    # unary encoding for quotient\n",
    "    quotientCode = (\"1\" * quotient) + \"0\"\n",
    "    # binary coding for remainder (k bits long)\n",
    "    remainderCode = format(remainder, f\"0{k}b\")\n",
    "#     print(\"value:\", value, \"k:\", k, \"m:\", m)\n",
    "#     print(\"quotient:\", quotient, \"   remainder:\", remainder)\n",
    "#     print(\"quotientCode:\", quotientCode, \"   remainderCode:\", remainderCode)\n",
    "    return quotientCode + remainderCode\n",
    "\n",
    "RiceEncoder(40, 4)"
   ]
  },
  {
   "cell_type": "markdown",
   "id": "59698144",
   "metadata": {},
   "source": [
    "The Rice Decoding takes in the input sample (```value```) and the number of bits (```k```).\n",
    "\n",
    "- The modulus (```m```) is calculated where $m = 2^k$\n",
    "- The quotient is determined by counting the number of 1s before the first 0\n",
    "- The remainder is determined by reading the next ```k``` bits as a binary value\n",
    "- The sample (```value```) is written as ```quotient * m + remainder```"
   ]
  },
  {
   "cell_type": "code",
   "execution_count": 3,
   "id": "2e63a01c",
   "metadata": {},
   "outputs": [
    {
     "data": {
      "text/plain": [
       "40"
      ]
     },
     "execution_count": 3,
     "metadata": {},
     "output_type": "execute_result"
    }
   ],
   "source": [
    "def RiceDecoder(value, k):\n",
    "    m = 2**k\n",
    "    quotientCode, remainderCode = value.split(\"0\", 1)\n",
    "    # extracting unary-encoded quotient\n",
    "    quotient = len(quotientCode)\n",
    "    # extracting binary-encoded remainder\n",
    "    remainder = int(remainderCode[:k], 2)\n",
    "#     print(\"quotient:\", quotient, \"   remainder:\", remainder)\n",
    "#     print(\"quotientCode:\", quotientCode, \"   remainderCode:\", remainderCode)\n",
    "    return quotient * m + remainder\n",
    "    \n",
    "RiceDecoder(\"1101000\", 4)"
   ]
  },
  {
   "cell_type": "markdown",
   "id": "a62cd248",
   "metadata": {},
   "source": [
    "The next step is to use the Rice coding on a file."
   ]
  },
  {
   "cell_type": "code",
   "execution_count": 6,
   "id": "a0df3308",
   "metadata": {},
   "outputs": [],
   "source": [
    "def FileEncoder(source, output, k):\n",
    "    bufferSize = 262144 # default buffer size\n",
    "    outBuffer = bytearray()\n",
    "    dByte = 0 # temp byte to store bits\n",
    "    bitsLeft = 8 # bits left empty in temp byte\n",
    "    \n",
    "    # reading source file, writing output file\n",
    "    with open(source, \"rb\") as sStream, open(output, \"wb\") as dStream:\n",
    "        inBuffer = sStream.read(bufferSize)\n",
    "        while inBuffer:\n",
    "            for sByte in inBuffer:\n",
    "                # encoding the byte\n",
    "                sEncodedByte = RiceEncoder(sByte, k)\n",
    "                lenEncodedByte = len(sEncodedByte)\n",
    "                idx = 0 # index storing current position in encoded val\n",
    "                \n",
    "                # packing encoded value in chunks into dByte\n",
    "                while idx < lenEncodedByte:\n",
    "                    # reading bytes from idx - nextIdx, not going beyond end of encoded value\n",
    "                    nextIdx = min(idx + bitsLeft, lenEncodedByte)\n",
    "                    # modifying number of bits left\n",
    "                    bitsLeft -= (nextIdx - idx)\n",
    "                    # shifting bits to the left\n",
    "                    dByte |= (int(sEncodedByte[idx:nextIdx], 2) << bitsLeft)\n",
    "                    \n",
    "                    if bitsLeft == 0:\n",
    "                        # appending result into outBuffer\n",
    "                        outBuffer.append(dByte)\n",
    "                        # resetting dByte and bitsleft\n",
    "                        dByte = 0\n",
    "                        bitsLeft = 8\n",
    "                        \n",
    "                        # checking if buffer is full\n",
    "                        if len(outBuffer) >= bufferSize:\n",
    "                            # writing to dStream\n",
    "                            dStream.write(outBuffer)\n",
    "                            # resetting outBuffer\n",
    "                            outBuffer = bytearray()\n",
    "                            \n",
    "                    idx = nextIdx\n",
    "            inBuffer = sStream.read(bufferSize)\n",
    "            \n",
    "        # writing remaining bits in the buffer\n",
    "        if bitsLeft != 8: outBuffer.append(dByte)\n",
    "        # flushing buffer onto disk\n",
    "        dStream.write(outBuffer)"
   ]
  },
  {
   "cell_type": "code",
   "execution_count": 5,
   "id": "44e4b39a",
   "metadata": {},
   "outputs": [],
   "source": [
    "def FileDecoder(source, output, k):\n",
    "#     bufferSize = 262144 # default buffer size\n",
    "    \n",
    "#     # creating buffers\n",
    "#     outBuffer = bytearray()\n",
    "#     byteBuffer = byteArray()\n",
    "    \n",
    "#     # keeping current position in the byte\n",
    "#     startIdx = 0\n",
    "#     # keeping end bosition of remainder in current / next byte\n",
    "#     shift = 0\n",
    "    \n",
    "    "
   ]
  },
  {
   "cell_type": "code",
   "execution_count": 7,
   "id": "f5433604",
   "metadata": {},
   "outputs": [],
   "source": [
    "originalFile = \"audios\\Sound1.wav\"\n",
    "encodedFile = \"audios\\Sound1_enc.ex2\"\n",
    "decodedFile = \"audios\\Sound1_enc_dec.wav\"\n",
    "\n",
    "FileEncoder(originalFile, encodedFile, 2)\n",
    "FileEncoder(originalFile, encodedFile, 2)"
   ]
  }
 ],
 "metadata": {
  "kernelspec": {
   "display_name": "Python 3 (ipykernel)",
   "language": "python",
   "name": "python3"
  },
  "language_info": {
   "codemirror_mode": {
    "name": "ipython",
    "version": 3
   },
   "file_extension": ".py",
   "mimetype": "text/x-python",
   "name": "python",
   "nbconvert_exporter": "python",
   "pygments_lexer": "ipython3",
   "version": "3.11.4"
  }
 },
 "nbformat": 4,
 "nbformat_minor": 5
}
