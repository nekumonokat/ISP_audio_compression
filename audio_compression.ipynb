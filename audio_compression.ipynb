{
 "cells": [
  {
   "cell_type": "markdown",
   "id": "660841fd",
   "metadata": {},
   "source": [
    "# Ex 2 Audio Compression\n",
    "This task focuses on encoding and decoding a series of uncompressed audio files, based on the lossless data compression method \"Rice Coding\"."
   ]
  },
  {
   "cell_type": "code",
   "execution_count": 1,
   "id": "bf2cc039",
   "metadata": {},
   "outputs": [],
   "source": [
    "import math"
   ]
  },
  {
   "cell_type": "markdown",
   "id": "0d26e24c",
   "metadata": {},
   "source": [
    "The Rice Encoding takes in the input sample (```value```) and the number of bits (```k```).\n",
    "\n",
    "- The modulus (```m```) is calculated where $m = {2^k}$\n",
    "- The sample (```S```) is then encoded by finding:\n",
    "    1. The quotient where $quotient = int(S / m)$\n",
    "    2. The remainder where $remainder =  SmoduloM $\n",
    "- The Codeword is then generated where:\n",
    "    1. The quotientCode is the quotient in unary form\n",
    "    2. The remainderCode is the remainder in binary using ```k``` bits\n",
    "    3. The codeword will have the format < quotientCode >< remainderCode >"
   ]
  },
  {
   "cell_type": "code",
   "execution_count": 54,
   "id": "f6335781",
   "metadata": {},
   "outputs": [
    {
     "name": "stdout",
     "output_type": "stream",
     "text": [
      "value: 40 k: 4 m: 16\n",
      "quotient: 2    remainder: 8\n",
      "quotientCode: 110    remainderCode: 1000\n"
     ]
    },
    {
     "data": {
      "text/plain": [
       "'1101000'"
      ]
     },
     "execution_count": 54,
     "metadata": {},
     "output_type": "execute_result"
    }
   ],
   "source": [
    "def RiceEncoder(value, k):\n",
    "    m = 2**k\n",
    "    quotient = int(math.floor(value / m))\n",
    "    remainder = int(value % m)\n",
    "    # unary encoding for quotient\n",
    "    quotientCode = (\"1\" * quotient) + \"0\"\n",
    "    # binary coding for remainder (k bits long)\n",
    "    remainderCode = format(remainder, f\"0{k}b\")\n",
    "    print(\"value:\", value, \"k:\", k, \"m:\", m)\n",
    "    print(\"quotient:\", quotient, \"   remainder:\", remainder)\n",
    "    print(\"quotientCode:\", quotientCode, \"   remainderCode:\", remainderCode)\n",
    "    return quotientCode + remainderCode\n",
    "\n",
    "RiceEncoder(40, 4)"
   ]
  },
  {
   "cell_type": "markdown",
   "id": "a51557f1",
   "metadata": {},
   "source": [
    "The Rice Decoding takes in the input sample (```value```) and the number of bits (```k```).\n",
    "\n",
    "- The modulus (```m```) is calculated where $m = 2^k$\n",
    "- The quotient is determined by counting the number of 1s before the first 0\n",
    "- The remainder is determined by reading the next ```k``` bits as a binary value\n",
    "- The sample (```value```) is written as ```quotient * m + remainder```"
   ]
  },
  {
   "cell_type": "code",
   "execution_count": 58,
   "id": "c0a30312",
   "metadata": {},
   "outputs": [
    {
     "name": "stdout",
     "output_type": "stream",
     "text": [
      "quotient: 2    remainder: 8\n",
      "quotientCode: 11    remainderCode: 1000\n"
     ]
    },
    {
     "data": {
      "text/plain": [
       "40"
      ]
     },
     "execution_count": 58,
     "metadata": {},
     "output_type": "execute_result"
    }
   ],
   "source": [
    "def RiceDecoder(value, k):\n",
    "    m = 2**k\n",
    "    quotientCode, remainderCode = value.split(\"0\", 1)\n",
    "    # extracting unary-encoded quotient\n",
    "    quotient = len(quotientCode)\n",
    "    # extracting binary-encoded remainder\n",
    "    remainder = int(remainderCode[:k], 2)\n",
    "    print(\"quotient:\", quotient, \"   remainder:\", remainder)\n",
    "    print(\"quotientCode:\", quotientCode, \"   remainderCode:\", remainderCode)\n",
    "    return quotient * m + remainder\n",
    "    \n",
    "RiceDecoder(\"1101000\", 4)"
   ]
  }
 ],
 "metadata": {
  "kernelspec": {
   "display_name": "Python 3 (ipykernel)",
   "language": "python",
   "name": "python3"
  },
  "language_info": {
   "codemirror_mode": {
    "name": "ipython",
    "version": 3
   },
   "file_extension": ".py",
   "mimetype": "text/x-python",
   "name": "python",
   "nbconvert_exporter": "python",
   "pygments_lexer": "ipython3",
   "version": "3.11.4"
  }
 },
 "nbformat": 4,
 "nbformat_minor": 5
}
